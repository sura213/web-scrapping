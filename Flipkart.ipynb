{
 "cells": [
  {
   "cell_type": "markdown",
   "id": "f630cffe",
   "metadata": {},
   "source": [
    "Requirements"
   ]
  },
  {
   "cell_type": "code",
   "execution_count": null,
   "id": "eddaf17f",
   "metadata": {},
   "outputs": [],
   "source": [
    "!pip install selenium"
   ]
  },
  {
   "cell_type": "code",
   "execution_count": 15,
   "id": "813f9e8f-614d-4e20-af83-8ff0e94976d3",
   "metadata": {},
   "outputs": [],
   "source": [
    "from selenium import webdriver\n",
    "from bs4 import BeautifulSoup\n",
    "import pandas as pd"
   ]
  },
  {
   "cell_type": "markdown",
   "id": "5c3f3e5b",
   "metadata": {},
   "source": [
    "create Driver for scrapping"
   ]
  },
  {
   "cell_type": "code",
   "execution_count": 4,
   "id": "707fb673-399a-442c-a7c8-fa7d7f9212de",
   "metadata": {},
   "outputs": [],
   "source": [
    "driver=webdriver.Chrome()\n",
    "driver.get(\"https://www.flipkart.com/search?q=laptop&sid=6bo%2Cb5g&as=on&as-show=on&otracker=AS_QueryStore_OrganicAutoSuggest_1_2_na_na_na&otracker1=AS_QueryStore_OrganicAutoSuggest_1_2_na_na_na&as-pos=1&as-type=RECENT&suggestionId=laptop%7CLaptops&requestId=e5ad7bb1-a47f-4323-82d4-7c959c0b47ac&as-backfill=on\")"
   ]
  },
  {
   "cell_type": "code",
   "execution_count": 6,
   "id": "1af72415-315a-4c0a-bf43-f0da62eb7b9c",
   "metadata": {},
   "outputs": [],
   "source": [
    "soup=BeautifulSoup(driver.page_source,'html.parser')"
   ]
  },
  {
   "cell_type": "markdown",
   "id": "d1eb621d",
   "metadata": {},
   "source": [
    "Scrap the Details using Soup"
   ]
  },
  {
   "cell_type": "code",
   "execution_count": 7,
   "id": "8566d546-e933-4aa7-b3c2-59bb6df8c6a1",
   "metadata": {},
   "outputs": [],
   "source": [
    "laptop_name=soup.find_all('div',class_='KzDlHZ')\n",
    "laptop_price=soup.find_all('div',class_= \"Nx9bqj _4b5DiR\")\n",
    "laptop_rating=soup.find_all('div',class_=\"XQDdHH\")"
   ]
  },
  {
   "cell_type": "markdown",
   "id": "ff5dfb88",
   "metadata": {},
   "source": [
    "Create Data in list and dataframe"
   ]
  },
  {
   "cell_type": "code",
   "execution_count": 26,
   "id": "06599e08-b539-40ec-b7b5-543e760d7e9c",
   "metadata": {},
   "outputs": [
    {
     "data": {
      "text/plain": [
       "24"
      ]
     },
     "execution_count": 26,
     "metadata": {},
     "output_type": "execute_result"
    }
   ],
   "source": [
    "laptop_name_list=[]\n",
    "for i in laptop_name:\n",
    "    laptop_name_list.append(i.text)\n",
    "len(laptop_name_list)"
   ]
  },
  {
   "cell_type": "code",
   "execution_count": 27,
   "id": "fa81e1a4-14ee-4934-9615-9d5340f430dd",
   "metadata": {},
   "outputs": [
    {
     "data": {
      "text/plain": [
       "24"
      ]
     },
     "execution_count": 27,
     "metadata": {},
     "output_type": "execute_result"
    }
   ],
   "source": [
    "laptop_price_list=[]\n",
    "for i in laptop_price:\n",
    "    laptop_price_list.append(i.text)\n",
    "len(laptop_price_list)"
   ]
  },
  {
   "cell_type": "code",
   "execution_count": 28,
   "id": "e5389060-737e-4d2e-bb50-83fe0b3a1b6f",
   "metadata": {},
   "outputs": [
    {
     "data": {
      "text/plain": [
       "24"
      ]
     },
     "execution_count": 28,
     "metadata": {},
     "output_type": "execute_result"
    }
   ],
   "source": [
    "laptop_rating_list=[]\n",
    "for i in laptop_rating[:24]:\n",
    "    laptop_rating_list.append(i.text)\n",
    "len(laptop_rating_list)"
   ]
  },
  {
   "cell_type": "code",
   "execution_count": 33,
   "id": "1aee552b-e201-42f7-8c59-26fff5f12f27",
   "metadata": {},
   "outputs": [],
   "source": [
    "data ={\"Name\":laptop_name_list,\"Price\":laptop_price_list,\"Ratings\":laptop_rating_list}\n",
    "\n",
    "df = pd.DataFrame(data)\n",
    "df.to_csv('flipkart_laptop_scrapping.csv')"
   ]
  },
  {
   "cell_type": "code",
   "execution_count": null,
   "id": "f3bbabe2",
   "metadata": {},
   "outputs": [],
   "source": []
  }
 ],
 "metadata": {
  "kernelspec": {
   "display_name": "Python 3 (ipykernel)",
   "language": "python",
   "name": "python3"
  },
  "language_info": {
   "codemirror_mode": {
    "name": "ipython",
    "version": 3
   },
   "file_extension": ".py",
   "mimetype": "text/x-python",
   "name": "python",
   "nbconvert_exporter": "python",
   "pygments_lexer": "ipython3",
   "version": "3.10.14"
  }
 },
 "nbformat": 4,
 "nbformat_minor": 5
}
