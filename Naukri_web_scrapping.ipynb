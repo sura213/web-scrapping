{
 "cells": [
  {
   "cell_type": "markdown",
   "id": "f630cffe",
   "metadata": {},
   "source": [
    "Requirements"
   ]
  },
  {
   "cell_type": "code",
   "execution_count": null,
   "id": "eddaf17f",
   "metadata": {},
   "outputs": [],
   "source": [
    "!pip install selenium"
   ]
  },
  {
   "cell_type": "code",
   "execution_count": 2,
   "id": "813f9e8f-614d-4e20-af83-8ff0e94976d3",
   "metadata": {},
   "outputs": [],
   "source": [
    "from selenium import webdriver\n",
    "from bs4 import BeautifulSoup\n",
    "import pandas as pd"
   ]
  },
  {
   "cell_type": "markdown",
   "id": "5c3f3e5b",
   "metadata": {},
   "source": [
    "create Driver for scrapping"
   ]
  },
  {
   "cell_type": "code",
   "execution_count": 19,
   "id": "707fb673-399a-442c-a7c8-fa7d7f9212de",
   "metadata": {},
   "outputs": [],
   "source": [
    "driver=webdriver.Chrome()\n",
    "driver.get(\"https://www.naukri.com/it-jobs?src=gnbjobs_homepage_srch\")"
   ]
  },
  {
   "cell_type": "code",
   "execution_count": null,
   "id": "1af72415-315a-4c0a-bf43-f0da62eb7b9c",
   "metadata": {},
   "outputs": [],
   "source": [
    "soup=BeautifulSoup(driver.page_source,'html.parser')\n",
    "soup"
   ]
  },
  {
   "cell_type": "markdown",
   "id": "d1eb621d",
   "metadata": {},
   "source": [
    "Scrap the Details using Soup"
   ]
  },
  {
   "cell_type": "code",
   "execution_count": 21,
   "id": "8566d546-e933-4aa7-b3c2-59bb6df8c6a1",
   "metadata": {},
   "outputs": [],
   "source": [
    "job_title=soup.find_all('a',class_='title')\n",
    "company_name=soup.find_all('a',class_=\"comp-name mw-25\")\n",
    "year_of_experience=soup.find_all('span',class_=\"expwdth\")\n",
    "salary=soup.find_all('span',class_=\"ni-job-tuple-icon ni-job-tuple-icon-srp-rupee sal\")\n",
    "location=soup.find_all('span',class_=\"locWdth\")\n",
    "job_desc=soup.find_all('span',class_=\"job-desc ni-job-tuple-icon ni-job-tuple-icon-srp-description\")"
   ]
  },
  {
   "cell_type": "markdown",
   "id": "ff5dfb88",
   "metadata": {},
   "source": [
    "Create Data in list and dataframe"
   ]
  },
  {
   "cell_type": "code",
   "execution_count": null,
   "id": "06599e08-b539-40ec-b7b5-543e760d7e9c",
   "metadata": {},
   "outputs": [],
   "source": [
    "title_list=[]\n",
    "for i in job_title[:19]:\n",
    "    title_list.append(i.text)\n",
    "print(len(title_list))\n",
    "\n",
    "\n",
    "company_list=[]\n",
    "for i in company_name:\n",
    "    company_list.append(i.text)\n",
    "print(len(company_list))\n",
    "\n",
    "\n",
    "exp_list=[]\n",
    "for i in year_of_experience[:19]:\n",
    "    exp_list.append(i.text)\n",
    "print(len(exp_list))\n",
    "\n",
    "\n",
    "salary_list = []\n",
    "for i in salary[:19]:\n",
    "    salary_list.append(i.text)\n",
    "print(len(salary_list))\n",
    "\n",
    "\n",
    "loc_list = []\n",
    "for i in location[:19]:\n",
    "    loc_list.append(i.text)\n",
    "print(len(loc_list))\n",
    "\n",
    "\n",
    "job_desc_list = []\n",
    "for i in job_desc[:19]:\n",
    "    job_desc_list.append(i.text)\n",
    "print(len(job_desc_list))"
   ]
  },
  {
   "cell_type": "code",
   "execution_count": 32,
   "id": "fa81e1a4-14ee-4934-9615-9d5340f430dd",
   "metadata": {},
   "outputs": [],
   "source": [
    "data ={\"Job Title\":title_list,\"Company Name\":company_list,\"YOE\":exp_list,\"Salary\":salary_list,\"Location\":loc_list,\"Job Description\":job_desc_list}\n",
    "\n",
    "df = pd.DataFrame(data)\n",
    "df.to_csv('naukri_jobs_scrapping.csv')"
   ]
  },
  {
   "cell_type": "code",
   "execution_count": null,
   "id": "e5389060-737e-4d2e-bb50-83fe0b3a1b6f",
   "metadata": {},
   "outputs": [],
   "source": []
  },
  {
   "cell_type": "code",
   "execution_count": null,
   "id": "4f08f147",
   "metadata": {},
   "outputs": [],
   "source": []
  },
  {
   "cell_type": "code",
   "execution_count": null,
   "id": "4bd3d151",
   "metadata": {},
   "outputs": [],
   "source": []
  },
  {
   "cell_type": "code",
   "execution_count": null,
   "id": "9ec4b635",
   "metadata": {},
   "outputs": [],
   "source": []
  },
  {
   "cell_type": "code",
   "execution_count": null,
   "id": "1aee552b-e201-42f7-8c59-26fff5f12f27",
   "metadata": {},
   "outputs": [],
   "source": []
  },
  {
   "cell_type": "code",
   "execution_count": null,
   "id": "f3bbabe2",
   "metadata": {},
   "outputs": [],
   "source": []
  }
 ],
 "metadata": {
  "kernelspec": {
   "display_name": "Python 3 (ipykernel)",
   "language": "python",
   "name": "python3"
  },
  "language_info": {
   "codemirror_mode": {
    "name": "ipython",
    "version": 3
   },
   "file_extension": ".py",
   "mimetype": "text/x-python",
   "name": "python",
   "nbconvert_exporter": "python",
   "pygments_lexer": "ipython3",
   "version": "3.10.14"
  }
 },
 "nbformat": 4,
 "nbformat_minor": 5
}
